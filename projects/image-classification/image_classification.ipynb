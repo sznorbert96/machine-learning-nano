{
 "cells": [
  {
   "cell_type": "markdown",
   "metadata": {
    "collapsed": true,
    "deletable": true,
    "editable": true
   },
   "source": [
    "# Image Classification\n",
    "In this project, you'll classify images from the [CIFAR-10 dataset](https://www.cs.toronto.edu/~kriz/cifar.html).  The dataset consists of airplanes, dogs, cats, and other objects. You'll preprocess the images, then train a convolutional neural network on all the samples. The images need to be normalized and the labels need to be one-hot encoded.  You'll get to apply what you learned and build a convolutional, max pooling, dropout, and fully connected layers.  At the end, you'll get to see your neural network's predictions on the sample images.\n",
    "## Get the Data\n",
    "Run the following cell to download the [CIFAR-10 dataset for python](https://www.cs.toronto.edu/~kriz/cifar-10-python.tar.gz)."
   ]
  },
  {
   "cell_type": "code",
   "execution_count": 1,
   "metadata": {
    "collapsed": false,
    "deletable": true,
    "editable": true,
    "scrolled": true
   },
   "outputs": [
    {
     "name": "stdout",
     "output_type": "stream",
     "text": [
      "All files found!\n"
     ]
    }
   ],
   "source": [
    "\"\"\"\n",
    "DON'T MODIFY ANYTHING IN THIS CELL THAT IS BELOW THIS LINE\n",
    "\"\"\"\n",
    "from urllib.request import urlretrieve\n",
    "from os.path import isfile, isdir\n",
    "from tqdm import tqdm\n",
    "import problem_unittests as tests\n",
    "import tarfile\n",
    "\n",
    "cifar10_dataset_folder_path = 'cifar-10-batches-py'\n",
    "\n",
    "class DLProgress(tqdm):\n",
    "    last_block = 0\n",
    "\n",
    "    def hook(self, block_num=1, block_size=1, total_size=None):\n",
    "        self.total = total_size\n",
    "        self.update((block_num - self.last_block) * block_size)\n",
    "        self.last_block = block_num\n",
    "\n",
    "if not isfile('cifar-10-python.tar.gz'):\n",
    "    with DLProgress(unit='B', unit_scale=True, miniters=1, desc='CIFAR-10 Dataset') as pbar:\n",
    "        urlretrieve(\n",
    "            'https://www.cs.toronto.edu/~kriz/cifar-10-python.tar.gz',\n",
    "            'cifar-10-python.tar.gz',\n",
    "            pbar.hook)\n",
    "\n",
    "if not isdir(cifar10_dataset_folder_path):\n",
    "    with tarfile.open('cifar-10-python.tar.gz') as tar:\n",
    "        tar.extractall()\n",
    "        tar.close()\n",
    "\n",
    "\n",
    "tests.test_folder_path(cifar10_dataset_folder_path)"
   ]
  },
  {
   "cell_type": "markdown",
   "metadata": {
    "deletable": true,
    "editable": true
   },
   "source": [
    "## Explore the Data\n",
    "The dataset is broken into batches to prevent your machine from running out of memory.  The CIFAR-10 dataset consists of 5 batches, named `data_batch_1`, `data_batch_2`, etc.. Each batch contains the labels and images that are one of the following:\n",
    "* airplane\n",
    "* automobile\n",
    "* bird\n",
    "* cat\n",
    "* deer\n",
    "* dog\n",
    "* frog\n",
    "* horse\n",
    "* ship\n",
    "* truck\n",
    "\n",
    "Understanding a dataset is part of making predictions on the data.  Play around with the code cell below by changing the `batch_id` and `sample_id`. The `batch_id` is the id for a batch (1-5). The `sample_id` is the id for a image and label pair in the batch.\n",
    "\n",
    "Ask yourself \"What are all possible labels?\", \"What is the range of values for the image data?\", \"Are the labels in order or random?\".  Answers to questions like these will help you preprocess the data and end up with better predictions."
   ]
  },
  {
   "cell_type": "code",
   "execution_count": 2,
   "metadata": {
    "collapsed": false,
    "deletable": true,
    "editable": true
   },
   "outputs": [
    {
     "name": "stdout",
     "output_type": "stream",
     "text": [
      "\n",
      "Stats of batch 1:\n",
      "Samples: 10000\n",
      "Label Counts: {0: 1005, 1: 974, 2: 1032, 3: 1016, 4: 999, 5: 937, 6: 1030, 7: 1001, 8: 1025, 9: 981}\n",
      "First 20 Labels: [6, 9, 9, 4, 1, 1, 2, 7, 8, 3, 4, 7, 7, 2, 9, 9, 9, 3, 2, 6]\n",
      "\n",
      "Example of Image 5:\n",
      "Image - Min Value: 0 Max Value: 252\n",
      "Image - Shape: (32, 32, 3)\n",
      "Label - Label Id: 1 Name: automobile\n"
     ]
    },
    {
     "data": {
      "image/png": "[encoded data removed]",
      "text/plain": [
       "<matplotlib.figure.Figure at 0x7fc2c787f668>"
      ]
     },
     "metadata": {
      "image/png": {
       "height": 250,
       "width": 253
      }
     },
     "output_type": "display_data"
    }
   ],
   "source": [
    "%matplotlib inline\n",
    "%config InlineBackend.figure_format = 'retina'\n",
    "\n",
    "import helper\n",
    "import numpy as np\n",
    "\n",
    "# Explore the dataset\n",
    "batch_id = 1\n",
    "sample_id = 5\n",
    "helper.display_stats(cifar10_dataset_folder_path, batch_id, sample_id)"
   ]
  },
  {
   "cell_type": "markdown",
   "metadata": {
    "deletable": true,
    "editable": true
   },
   "source": [
    "## Implement Preprocess Functions\n",
    "### Normalize\n",
    "In the cell below, implement the `normalize` function to take in image data, `x`, and return it as a normalized Numpy array. The values should be in the range of 0 to 1, inclusive.  The return object should be the same shape as `x`."
   ]
  },
  {
   "cell_type": "code",
   "execution_count": 3,
   "metadata": {
    "collapsed": false,
    "deletable": true,
    "editable": true
   },
   "outputs": [
    {
     "name": "stdout",
     "output_type": "stream",
     "text": [
      "Tests Passed\n"
     ]
    }
   ],
   "source": [
    "def normalize(x):\n",
    "    \"\"\"\n",
    "    Normalize a list of sample image data in the range of 0 to 1\n",
    "    : x: List of image data.  The image shape is (32, 32, 3)\n",
    "    : return: Numpy array of normalize data\n",
    "    \"\"\"\n",
    "    # TODO: Implement Function\n",
    "    x = np.array(x)\n",
    "    x = x - x.min()\n",
    "    x = x / x.max()\n",
    "    return x\n",
    "\n",
    "\n",
    "\"\"\"\n",
    "DON'T MODIFY ANYTHING IN THIS CELL THAT IS BELOW THIS LINE\n",
    "\"\"\"\n",
    "tests.test_normalize(normalize)"
   ]
  },
  {
   "cell_type": "markdown",
   "metadata": {
    "deletable": true,
    "editable": true
   },
   "source": [
    "### One-hot encode\n",
    "Just like the previous code cell, you'll be implementing a function for preprocessing.  This time, you'll implement the `one_hot_encode` function. The input, `x`, are a list of labels.  Implement the function to return the list of labels as One-Hot encoded Numpy array.  The possible values for labels are 0 to 9. The one-hot encoding function should return the same encoding for each value between each call to `one_hot_encode`.  Make sure to save the map of encodings outside the function.\n",
    "\n",
    "**Hint:**\n",
    "\n",
    "Look into LabelBinarizer in the preprocessing module of sklearn."
   ]
  },
  {
   "cell_type": "code",
   "execution_count": 4,
   "metadata": {
    "collapsed": false,
    "deletable": true,
    "editable": true
   },
   "outputs": [
    {
     "name": "stdout",
     "output_type": "stream",
     "text": [
      "Tests Passed\n"
     ]
    }
   ],
   "source": [
    "def one_hot_encode(x):\n",
    "    \"\"\"\n",
    "    One hot encode a list of sample labels. Return a one-hot encoded vector for each label.\n",
    "    : x: List of sample Labels\n",
    "    : return: Numpy array of one-hot encoded labels\n",
    "    \"\"\"\n",
    "    # TODO: Implement Function\n",
    "    \n",
    "    x_encoded = []\n",
    "    \n",
    "    for element in x:\n",
    "        x_i = np.zeros(10)\n",
    "        x_i[element] = 1\n",
    "        x_encoded.append(x_i)\n",
    "        \n",
    "    \n",
    "    return np.array(x_encoded)\n",
    "\n",
    "\n",
    "\"\"\"\n",
    "DON'T MODIFY ANYTHING IN THIS CELL THAT IS BELOW THIS LINE\n",
    "\"\"\"\n",
    "tests.test_one_hot_encode(one_hot_encode)"
   ]
  },
  {
   "cell_type": "markdown",
   "metadata": {
    "deletable": true,
    "editable": true
   },
   "source": [
    "### Randomize Data\n",
    "As you saw from exploring the data above, the order of the samples are randomized.  It doesn't hurt to randomize it again, but you don't need to for this dataset."
   ]
  },
  {
   "cell_type": "markdown",
   "metadata": {
    "deletable": true,
    "editable": true
   },
   "source": [
    "## Preprocess all the data and save it\n",
    "Running the code cell below will preprocess all the CIFAR-10 data and save it to file. The code below also uses 10% of the training data for validation."
   ]
  },
  {
   "cell_type": "code",
   "execution_count": 5,
   "metadata": {
    "collapsed": false,
    "deletable": true,
    "editable": true
   },
   "outputs": [],
   "source": [
    "\"\"\"\n",
    "DON'T MODIFY ANYTHING IN THIS CELL\n",
    "\"\"\"\n",
    "# Preprocess Training, Validation, and Testing Data\n",
    "helper.preprocess_and_save_data(cifar10_dataset_folder_path, normalize, one_hot_encode)"
   ]
  },
  {
   "cell_type": "markdown",
   "metadata": {
    "deletable": true,
    "editable": true
   },
   "source": [
    "# Check Point\n",
    "This is your first checkpoint.  If you ever decide to come back to this notebook or have to restart the notebook, you can start from here.  The preprocessed data has been saved to disk."
   ]
  },
  {
   "cell_type": "code",
   "execution_count": 6,
   "metadata": {
    "collapsed": true,
    "deletable": true,
    "editable": true
   },
   "outputs": [],
   "source": [
    "\"\"\"\n",
    "DON'T MODIFY ANYTHING IN THIS CELL\n",
    "\"\"\"\n",
    "import pickle\n",
    "import problem_unittests as tests\n",
    "import helper\n",
    "\n",
    "# Load the Preprocessed Validation data\n",
    "valid_features, valid_labels = pickle.load(open('preprocess_validation.p', mode='rb'))"
   ]
  },
  {
   "cell_type": "markdown",
   "metadata": {
    "deletable": true,
    "editable": true
   },
   "source": [
    "## Build the network\n",
    "For the neural network, you'll build each layer into a function.  Most of the code you've seen has been outside of functions. To test your code more thoroughly, we require that you put each layer in a function.  This allows us to give you better feedback and test for simple mistakes using our unittests before you submit your project.\n",
    "\n",
    ">**Note:** If you're finding it hard to dedicate enough time for this course each week, we've provided a small shortcut to this part of the project. In the next couple of problems, you'll have the option to use classes from the [TensorFlow Layers](https://www.tensorflow.org/api_docs/python/tf/layers) or [TensorFlow Layers (contrib)](https://www.tensorflow.org/api_guides/python/contrib.layers) packages to build each layer, except the layers you build in the \"Convolutional and Max Pooling Layer\" section.  TF Layers is similar to Keras's and TFLearn's abstraction to layers, so it's easy to pickup.\n",
    "\n",
    ">However, if you would like to get the most out of this course, try to solve all the problems _without_ using anything from the TF Layers packages. You **can** still use classes from other packages that happen to have the same name as ones you find in TF Layers! For example, instead of using the TF Layers version of the `conv2d` class, [tf.layers.conv2d](https://www.tensorflow.org/api_docs/python/tf/layers/conv2d), you would want to use the TF Neural Network version of `conv2d`, [tf.nn.conv2d](https://www.tensorflow.org/api_docs/python/tf/nn/conv2d). \n",
    "\n",
    "Let's begin!\n",
    "\n",
    "### Input\n",
    "The neural network needs to read the image data, one-hot encoded labels, and dropout keep probability. Implement the following functions\n",
    "* Implement `neural_net_image_input`\n",
    " * Return a [TF Placeholder](https://www.tensorflow.org/api_docs/python/tf/placeholder)\n",
    " * Set the shape using `image_shape` with batch size set to `None`.\n",
    " * Name the TensorFlow placeholder \"x\" using the TensorFlow `name` parameter in the [TF Placeholder](https://www.tensorflow.org/api_docs/python/tf/placeholder).\n",
    "* Implement `neural_net_label_input`\n",
    " * Return a [TF Placeholder](https://www.tensorflow.org/api_docs/python/tf/placeholder)\n",
    " * Set the shape using `n_classes` with batch size set to `None`.\n",
    " * Name the TensorFlow placeholder \"y\" using the TensorFlow `name` parameter in the [TF Placeholder](https://www.tensorflow.org/api_docs/python/tf/placeholder).\n",
    "* Implement `neural_net_keep_prob_input`\n",
    " * Return a [TF Placeholder](https://www.tensorflow.org/api_docs/python/tf/placeholder) for dropout keep probability.\n",
    " * Name the TensorFlow placeholder \"keep_prob\" using the TensorFlow `name` parameter in the [TF Placeholder](https://www.tensorflow.org/api_docs/python/tf/placeholder).\n",
    "\n",
    "These names will be used at the end of the project to load your saved model.\n",
    "\n",
    "Note: `None` for shapes in TensorFlow allow for a dynamic size."
   ]
  },
  {
   "cell_type": "code",
   "execution_count": 7,
   "metadata": {
    "collapsed": false,
    "deletable": true,
    "editable": true
   },
   "outputs": [
    {
     "name": "stdout",
     "output_type": "stream",
     "text": [
      "Image Input Tests Passed.\n",
      "Label Input Tests Passed.\n",
      "Keep Prob Tests Passed.\n"
     ]
    }
   ],
   "source": [
    "import tensorflow as tf\n",
    "\n",
    "def neural_net_image_input(image_shape):\n",
    "    \"\"\"\n",
    "    Return a Tensor for a batch of image input\n",
    "    : image_shape: Shape of the images\n",
    "    : return: Tensor for image input.\n",
    "    \"\"\"\n",
    "    # TODO: Implement Function\n",
    "    \n",
    "    x = tf.placeholder(\"float\", [None, image_shape[0], image_shape[1], image_shape[2]], name='x')\n",
    "    \n",
    "    return x\n",
    "\n",
    "\n",
    "def neural_net_label_input(n_classes):\n",
    "    \"\"\"\n",
    "    Return a Tensor for a batch of label input\n",
    "    : n_classes: Number of classes\n",
    "    : return: Tensor for label input.\n",
    "    \"\"\"\n",
    "    # TODO: Implement Function\n",
    "    y = tf.placeholder('float', [None, n_classes], name = 'y')\n",
    "    \n",
    "    return y\n",
    "\n",
    "\n",
    "def neural_net_keep_prob_input():\n",
    "    \"\"\"\n",
    "    Return a Tensor for keep probability\n",
    "    : return: Tensor for keep probability.\n",
    "    \"\"\"\n",
    "    # TODO: Implement Function\n",
    "    \n",
    "    keep_prob = tf.placeholder('float', name = 'keep_prob')\n",
    "    \n",
    "    return keep_prob\n",
    "\n",
    "\n",
    "\"\"\"\n",
    "DON'T MODIFY ANYTHING IN THIS CELL THAT IS BELOW THIS LINE\n",
    "\"\"\"\n",
    "tf.reset_default_graph()\n",
    "tests.test_nn_image_inputs(neural_net_image_input)\n",
    "tests.test_nn_label_inputs(neural_net_label_input)\n",
    "tests.test_nn_keep_prob_inputs(neural_net_keep_prob_input)"
   ]
  },
  {
   "cell_type": "markdown",
   "metadata": {
    "deletable": true,
    "editable": true
   },
   "source": [
    "### Convolution and Max Pooling Layer\n",
    "Convolution layers have a lot of success with images. For this code cell, you should implement the function `conv2d_maxpool` to apply convolution then max pooling:\n",
    "* Create the weight and bias using `conv_ksize`, `conv_num_outputs` and the shape of `x_tensor`.\n",
    "* Apply a convolution to `x_tensor` using weight and `conv_strides`.\n",
    " * We recommend you use same padding, but you're welcome to use any padding.\n",
    "* Add bias\n",
    "* Add a nonlinear activation to the convolution.\n",
    "* Apply Max Pooling using `pool_ksize` and `pool_strides`.\n",
    " * We recommend you use same padding, but you're welcome to use any padding.\n",
    "\n",
    "**Note:** You **can't** use [TensorFlow Layers](https://www.tensorflow.org/api_docs/python/tf/layers) or [TensorFlow Layers (contrib)](https://www.tensorflow.org/api_guides/python/contrib.layers) for **this** layer, but you can still use TensorFlow's [Neural Network](https://www.tensorflow.org/api_docs/python/tf/nn) package. You may still use the shortcut option for all the **other** layers.\n",
    "\n",
    "** Hint: **\n",
    "\n",
    "When unpacking values as an argument in Python, look into the [unpacking](https://docs.python.org/3/tutorial/controlflow.html#unpacking-argument-lists) operator. "
   ]
  },
  {
   "cell_type": "code",
   "execution_count": 8,
   "metadata": {
    "collapsed": false,
    "deletable": true,
    "editable": true
   },
   "outputs": [
    {
     "name": "stdout",
     "output_type": "stream",
     "text": [
      "Conv layer shape: \n",
      "[None, 4, 4, 10]\n",
      "--------------------\n",
      "Tests Passed\n"
     ]
    }
   ],
   "source": [
    "def conv2d_maxpool(x_tensor, conv_num_outputs, conv_ksize, conv_strides, pool_ksize, pool_strides):\n",
    "    \"\"\"\n",
    "    Apply convolution then max pooling to x_tensor\n",
    "    :param x_tensor: TensorFlow Tensor\n",
    "    :param conv_num_outputs: Number of outputs for the convolutional layer\n",
    "    :param conv_ksize: kernal size 2-D Tuple for the convolutional layer\n",
    "    :param conv_strides: Stride 2-D Tuple for convolution\n",
    "    :param pool_ksize: kernal size 2-D Tuple for pool\n",
    "    :param pool_strides: Stride 2-D Tuple for pool\n",
    "    : return: A tensor that represents convolution and max pooling of x_tensor\n",
    "    \"\"\"\n",
    "    # TODO: Implement Function\n",
    "    tensor_param = x_tensor.get_shape().as_list()\n",
    "    depth = tensor_param[3]\n",
    "    ksize = [1, pool_ksize[0], pool_ksize[1], 1]\n",
    "    strides = [1, pool_strides[0], pool_strides[1], 1]\n",
    "    W = tf.Variable(tf.truncated_normal((conv_ksize[0], conv_ksize[1], depth, conv_num_outputs), stddev=0.05))\n",
    "    bias = tf.Variable(tf.zeros(conv_num_outputs))\n",
    "    conv1_layer = tf.nn.conv2d(x_tensor, W, strides=[1, conv_strides[0], conv_strides[1], 1], padding='SAME')\n",
    "    conv1_layer = tf.nn.bias_add(conv1_layer, bias)\n",
    "    conv1_layer = tf.nn.relu(conv1_layer)\n",
    "    conv_layer_out = tf.nn.max_pool(conv1_layer, ksize, strides, padding='SAME')\n",
    "    print(\"Conv layer shape: \")\n",
    "    print(conv_layer_out.get_shape().as_list())\n",
    "    print(\"--------------------\")\n",
    "    return conv_layer_out\n",
    "\n",
    "\n",
    "\"\"\"\n",
    "DON'T MODIFY ANYTHING IN THIS CELL THAT IS BELOW THIS LINE\n",
    "\"\"\"\n",
    "tests.test_con_pool(conv2d_maxpool)"
   ]
  },
  {
   "cell_type": "markdown",
   "metadata": {
    "deletable": true,
    "editable": true
   },
   "source": [
    "### Flatten Layer\n",
    "Implement the `flatten` function to change the dimension of `x_tensor` from a 4-D tensor to a 2-D tensor.  The output should be the shape (*Batch Size*, *Flattened Image Size*). Shortcut option: you can use classes from the [TensorFlow Layers](https://www.tensorflow.org/api_docs/python/tf/layers) or [TensorFlow Layers (contrib)](https://www.tensorflow.org/api_guides/python/contrib.layers) packages for this layer. For more of a challenge, only use other TensorFlow packages."
   ]
  },
  {
   "cell_type": "code",
   "execution_count": 9,
   "metadata": {
    "collapsed": false,
    "deletable": true,
    "editable": true
   },
   "outputs": [
    {
     "name": "stdout",
     "output_type": "stream",
     "text": [
      "Flatten layer shape: \n",
      "[None, 1800]\n",
      "--------------------\n",
      "Tests Passed\n"
     ]
    }
   ],
   "source": [
    "def flatten(x_tensor):\n",
    "    \"\"\"\n",
    "    Flatten x_tensor to (Batch Size, Flattened Image Size)\n",
    "    : x_tensor: A tensor of size (Batch Size, ...), where ... are the image dimensions.\n",
    "    : return: A tensor of size (Batch Size, Flattened Image Size).\n",
    "    \"\"\"\n",
    "    # TODO: Implement Function\n",
    "    params = x_tensor.get_shape().as_list()\n",
    "    x_flatten = tf.reshape(x_tensor, [-1, params[1]*params[2]*params[3]])\n",
    "    print(\"Flatten layer shape: \")\n",
    "    print(x_flatten.get_shape().as_list())\n",
    "    print(\"--------------------\")\n",
    "    return x_flatten\n",
    "\n",
    "\n",
    "\"\"\"\n",
    "DON'T MODIFY ANYTHING IN THIS CELL THAT IS BELOW THIS LINE\n",
    "\"\"\"\n",
    "tests.test_flatten(flatten)"
   ]
  },
  {
   "cell_type": "markdown",
   "metadata": {
    "deletable": true,
    "editable": true
   },
   "source": [
    "### Fully-Connected Layer\n",
    "Implement the `fully_conn` function to apply a fully connected layer to `x_tensor` with the shape (*Batch Size*, *num_outputs*). Shortcut option: you can use classes from the [TensorFlow Layers](https://www.tensorflow.org/api_docs/python/tf/layers) or [TensorFlow Layers (contrib)](https://www.tensorflow.org/api_guides/python/contrib.layers) packages for this layer. For more of a challenge, only use other TensorFlow packages."
   ]
  },
  {
   "cell_type": "code",
   "execution_count": 10,
   "metadata": {
    "collapsed": false,
    "deletable": true,
    "editable": true
   },
   "outputs": [
    {
     "name": "stdout",
     "output_type": "stream",
     "text": [
      "Fully connected layer shape: \n",
      "[None, 40]\n",
      "--------------------\n",
      "Tests Passed\n"
     ]
    }
   ],
   "source": [
    "def fully_conn(x_tensor, num_outputs):\n",
    "    \"\"\"\n",
    "    Apply a fully connected layer to x_tensor using weight and bias\n",
    "    : x_tensor: A 2-D tensor where the first dimension is batch size.\n",
    "    : num_outputs: The number of output that the new tensor should be.\n",
    "    : return: A 2-D tensor where the second dimension is num_outputs.\n",
    "    \"\"\"\n",
    "    # TODO: Implement Function\n",
    "    params = x_tensor.get_shape().as_list()\n",
    "    W = tf.Variable(tf.truncated_normal([params[1], num_outputs], stddev=0.05))\n",
    "    bias = tf.Variable(tf.zeros(num_outputs))\n",
    "    fc_layer =  tf.add(tf.matmul(x_tensor, W), bias)\n",
    "    fc_layer = tf.nn.relu(fc_layer)\n",
    "    print(\"Fully connected layer shape: \")\n",
    "    print(fc_layer.get_shape().as_list())\n",
    "    print(\"--------------------\")\n",
    "    return fc_layer\n",
    "\n",
    "\n",
    "\"\"\"\n",
    "DON'T MODIFY ANYTHING IN THIS CELL THAT IS BELOW THIS LINE\n",
    "\"\"\"\n",
    "tests.test_fully_conn(fully_conn)"
   ]
  },
  {
   "cell_type": "markdown",
   "metadata": {
    "deletable": true,
    "editable": true
   },
   "source": [
    "### Output Layer\n",
    "Implement the `output` function to apply a fully connected layer to `x_tensor` with the shape (*Batch Size*, *num_outputs*). Shortcut option: you can use classes from the [TensorFlow Layers](https://www.tensorflow.org/api_docs/python/tf/layers) or [TensorFlow Layers (contrib)](https://www.tensorflow.org/api_guides/python/contrib.layers) packages for this layer. For more of a challenge, only use other TensorFlow packages.\n",
    "\n",
    "**Note:** Activation, softmax, or cross entropy should **not** be applied to this."
   ]
  },
  {
   "cell_type": "code",
   "execution_count": 11,
   "metadata": {
    "collapsed": false,
    "deletable": true,
    "editable": true
   },
   "outputs": [
    {
     "name": "stdout",
     "output_type": "stream",
     "text": [
      "Output layer shape: \n",
      "[None, 40]\n",
      "--------------------\n",
      "Tests Passed\n"
     ]
    }
   ],
   "source": [
    "def output(x_tensor, num_outputs):\n",
    "    \"\"\"\n",
    "    Apply a output layer to x_tensor using weight and bias\n",
    "    : x_tensor: A 2-D tensor where the first dimension is batch size.\n",
    "    : num_outputs: The number of output that the new tensor should be.\n",
    "    : return: A 2-D tensor where the second dimension is num_outputs.\n",
    "    \"\"\"\n",
    "    # TODO: Implement Function\n",
    "    params = x_tensor.get_shape().as_list()\n",
    "    W = tf.Variable(tf.truncated_normal([params[1], num_outputs], stddev=0.05))\n",
    "    bias = tf.Variable(tf.zeros(num_outputs))\n",
    "    output = tf.add(tf.matmul(x_tensor, W), bias)\n",
    "    print(\"Output layer shape: \")\n",
    "    print(output.get_shape().as_list())\n",
    "    print(\"--------------------\")\n",
    "    return output\n",
    "\n",
    "\n",
    "\"\"\"\n",
    "DON'T MODIFY ANYTHING IN THIS CELL THAT IS BELOW THIS LINE\n",
    "\"\"\"\n",
    "tests.test_output(output)"
   ]
  },
  {
   "cell_type": "markdown",
   "metadata": {
    "deletable": true,
    "editable": true
   },
   "source": [
    "### Create Convolutional Model\n",
    "Implement the function `conv_net` to create a convolutional neural network model. The function takes in a batch of images, `x`, and outputs logits.  Use the layers you created above to create this model:\n",
    "\n",
    "* Apply 1, 2, or 3 Convolution and Max Pool layers\n",
    "* Apply a Flatten Layer\n",
    "* Apply 1, 2, or 3 Fully Connected Layers\n",
    "* Apply an Output Layer\n",
    "* Return the output\n",
    "* Apply [TensorFlow's Dropout](https://www.tensorflow.org/api_docs/python/tf/nn/dropout) to one or more layers in the model using `keep_prob`. "
   ]
  },
  {
   "cell_type": "code",
   "execution_count": 24,
   "metadata": {
    "collapsed": false,
    "deletable": true,
    "editable": true
   },
   "outputs": [
    {
     "name": "stdout",
     "output_type": "stream",
     "text": [
      "Conv layer shape: \n",
      "[None, 8, 8, 32]\n",
      "--------------------\n",
      "Conv layer shape: \n",
      "[None, 2, 2, 64]\n",
      "--------------------\n",
      "Flatten layer shape: \n",
      "[None, 256]\n",
      "--------------------\n",
      "Fully connected layer shape: \n",
      "[None, 1024]\n",
      "--------------------\n",
      "Fully connected layer shape: \n",
      "[None, 1024]\n",
      "--------------------\n",
      "Output layer shape: \n",
      "[None, 10]\n",
      "--------------------\n",
      "Conv layer shape: \n",
      "[None, 8, 8, 32]\n",
      "--------------------\n",
      "Conv layer shape: \n",
      "[None, 2, 2, 64]\n",
      "--------------------\n",
      "Flatten layer shape: \n",
      "[None, 256]\n",
      "--------------------\n",
      "Fully connected layer shape: \n",
      "[None, 1024]\n",
      "--------------------\n",
      "Fully connected layer shape: \n",
      "[None, 1024]\n",
      "--------------------\n",
      "Output layer shape: \n",
      "[None, 10]\n",
      "--------------------\n",
      "Neural Network Built!\n"
     ]
    }
   ],
   "source": [
    "def conv_net(x, keep_prob):\n",
    "    \"\"\"\n",
    "    Create a convolutional neural network model\n",
    "    : x: Placeholder tensor that holds image data.\n",
    "    : keep_prob: Placeholder tensor that hold dropout keep probability.\n",
    "    : return: Tensor that represents logits\n",
    "    \"\"\"\n",
    "    # TODO: Apply 1, 2, or 3 Convolution and Max Pool layers\n",
    "    #    Play around with different number of outputs, kernel size and stride\n",
    "    # Function Definition from Above:\n",
    "    #    conv2d_maxpool(x_tensor, conv_num_outputs, conv_ksize, conv_strides, pool_ksize, pool_strides)\n",
    "    \n",
    "    conv_layer1 = conv2d_maxpool(x, 32, (2,2), (2,2), (2,2), (2,2))\n",
    "    conv_layer1 = tf.nn.dropout(conv_layer1, keep_prob)\n",
    "    conv_layer2 = conv2d_maxpool(conv_layer1, 64, (2,2), (2,2), (2,2), (2,2))\n",
    "    conv_layer2 = tf.nn.dropout(conv_layer2, keep_prob)\n",
    "    \n",
    "    # TODO: Apply a Flatten Layer\n",
    "    # Function Definition from Above:\n",
    "    #   flatten(x_tensor)\n",
    "    flatten_layer1 = flatten(conv_layer2)\n",
    "\n",
    "    # TODO: Apply 1, 2, or 3 Fully Connected Layers\n",
    "    #    Play around with different number of outputs\n",
    "    # Function Definition from Above:\n",
    "    #   fully_conn(x_tensor, num_outputs)\n",
    "    \n",
    "    fc_layer1 = fully_conn(flatten_layer1, 1024)\n",
    "    fc_layer1 = tf.nn.dropout(fc_layer1, keep_prob)\n",
    "    fc_layer2 = fully_conn(fc_layer1, 1024)\n",
    "    fc_layer2 = tf.nn.dropout(fc_layer2, keep_prob)\n",
    "\n",
    "    \n",
    "    # TODO: Apply an Output Layer\n",
    "    #    Set this to the number of classes\n",
    "    # Function Definition from Above:\n",
    "    #   output(x_tensor, num_outputs)\n",
    "    \n",
    "    out = output(fc_layer2 , 10)\n",
    "    \n",
    "    # TODO: return output\n",
    "    return out\n",
    "\n",
    "\n",
    "\"\"\"\n",
    "DON'T MODIFY ANYTHING IN THIS CELL THAT IS BELOW THIS LINE\n",
    "\"\"\"\n",
    "\n",
    "##############################\n",
    "## Build the Neural Network ##\n",
    "##############################\n",
    "\n",
    "# Remove previous weights, bias, inputs, etc..\n",
    "tf.reset_default_graph()\n",
    "\n",
    "# Inputs\n",
    "x = neural_net_image_input((32, 32, 3))\n",
    "y = neural_net_label_input(10)\n",
    "keep_prob = neural_net_keep_prob_input()\n",
    "\n",
    "# Model\n",
    "logits = conv_net(x, keep_prob)\n",
    "\n",
    "# Name logits Tensor, so that is can be loaded from disk after training\n",
    "logits = tf.identity(logits, name='logits')\n",
    "\n",
    "# Loss and Optimizer\n",
    "cost = tf.reduce_mean(tf.nn.softmax_cross_entropy_with_logits(logits=logits, labels=y))\n",
    "optimizer = tf.train.AdamOptimizer().minimize(cost)\n",
    "\n",
    "# Accuracy\n",
    "correct_pred = tf.equal(tf.argmax(logits, 1), tf.argmax(y, 1))\n",
    "accuracy = tf.reduce_mean(tf.cast(correct_pred, tf.float32), name='accuracy')\n",
    "\n",
    "tests.test_conv_net(conv_net)"
   ]
  },
  {
   "cell_type": "markdown",
   "metadata": {
    "deletable": true,
    "editable": true
   },
   "source": [
    "## Train the Neural Network\n",
    "### Single Optimization\n",
    "Implement the function `train_neural_network` to do a single optimization.  The optimization should use `optimizer` to optimize in `session` with a `feed_dict` of the following:\n",
    "* `x` for image input\n",
    "* `y` for labels\n",
    "* `keep_prob` for keep probability for dropout\n",
    "\n",
    "This function will be called for each batch, so `tf.global_variables_initializer()` has already been called.\n",
    "\n",
    "Note: Nothing needs to be returned. This function is only optimizing the neural network."
   ]
  },
  {
   "cell_type": "code",
   "execution_count": 25,
   "metadata": {
    "collapsed": false,
    "deletable": true,
    "editable": true
   },
   "outputs": [
    {
     "name": "stdout",
     "output_type": "stream",
     "text": [
      "Tests Passed\n"
     ]
    }
   ],
   "source": [
    "def train_neural_network(session, optimizer, keep_probability, feature_batch, label_batch):\n",
    "    \"\"\"\n",
    "    Optimize the session on a batch of images and labels\n",
    "    : session: Current TensorFlow session\n",
    "    : optimizer: TensorFlow optimizer function\n",
    "    : keep_probability: keep probability\n",
    "    : feature_batch: Batch of Numpy image data\n",
    "    : label_batch: Batch of Numpy label data\n",
    "    \"\"\"\n",
    "    # TODO: Implement Function\n",
    "    session.run(optimizer, feed_dict={x: feature_batch, y: label_batch, keep_prob: keep_probability})\n",
    "    pass\n",
    "\n",
    "\n",
    "\"\"\"\n",
    "DON'T MODIFY ANYTHING IN THIS CELL THAT IS BELOW THIS LINE\n",
    "\"\"\"\n",
    "tests.test_train_nn(train_neural_network)"
   ]
  },
  {
   "cell_type": "code",
   "execution_count": 26,
   "metadata": {
    "collapsed": false,
    "deletable": true,
    "editable": true
   },
   "outputs": [],
   "source": [
    "def print_stats(session, feature_batch, label_batch, cost, accuracy):\n",
    "    \"\"\"\n",
    "    Print information about loss and validation accuracy\n",
    "    : session: Current TensorFlow session\n",
    "    : feature_batch: Batch of Numpy image data\n",
    "    : label_batch: Batch of Numpy label data\n",
    "    : cost: TensorFlow cost function\n",
    "    : accuracy: TensorFlow accuracy function\n",
    "    \"\"\"\n",
    "    # TODO: Implement Function\n",
    "    loss = session.run(cost, feed_dict={x: feature_batch, y:label_batch, keep_prob:1.0})\n",
    "    valid_acc = session.run(accuracy, feed_dict={x: valid_features, y: valid_labels, keep_prob:1.0})\n",
    "    print('Loss: {:>10.4f} - Validation Accuracy: {:.6f}'.format(loss, valid_acc))\n",
    "    pass"
   ]
  },
  {
   "cell_type": "markdown",
   "metadata": {
    "deletable": true,
    "editable": true
   },
   "source": [
    "### Hyperparameters\n",
    "Tune the following parameters:\n",
    "* Set `epochs` to the number of iterations until the network stops learning or start overfitting\n",
    "* Set `batch_size` to the highest number that your machine has memory for.  Most people set them to common sizes of memory:\n",
    " * 64\n",
    " * 128\n",
    " * 256\n",
    " * ...\n",
    "* Set `keep_probability` to the probability of keeping a node using dropout"
   ]
  },
  {
   "cell_type": "markdown",
   "metadata": {
    "deletable": true,
    "editable": true
   },
   "source": [
    "### Show Stats\n",
    "Implement the function `print_stats` to print loss and validation accuracy.  Use the global variables `valid_features` and `valid_labels` to calculate validation accuracy.  Use a keep probability of `1.0` to calculate the loss and validation accuracy."
   ]
  },
  {
   "cell_type": "code",
   "execution_count": 27,
   "metadata": {
    "collapsed": true,
    "deletable": true,
    "editable": true
   },
   "outputs": [],
   "source": [
    "# TODO: Tune Parameters\n",
    "epochs = 40\n",
    "batch_size = 128\n",
    "keep_probability = 0.75"
   ]
  },
  {
   "cell_type": "markdown",
   "metadata": {
    "deletable": true,
    "editable": true
   },
   "source": [
    "### Train on a Single CIFAR-10 Batch\n",
    "Instead of training the neural network on all the CIFAR-10 batches of data, let's use a single batch. This should save time while you iterate on the model to get a better accuracy.  Once the final validation accuracy is 50% or greater, run the model on all the data in the next section."
   ]
  },
  {
   "cell_type": "code",
   "execution_count": 28,
   "metadata": {
    "collapsed": false,
    "deletable": true,
    "editable": true
   },
   "outputs": [
    {
     "name": "stdout",
     "output_type": "stream",
     "text": [
      "Checking the Training on a Single Batch...\n",
      "Epoch  1, CIFAR-10 Batch 1:  Loss:     2.1543 - Validation Accuracy: 0.235200\n",
      "Epoch  2, CIFAR-10 Batch 1:  Loss:     2.0397 - Validation Accuracy: 0.324600\n",
      "Epoch  3, CIFAR-10 Batch 1:  Loss:     1.8925 - Validation Accuracy: 0.370200\n",
      "Epoch  4, CIFAR-10 Batch 1:  Loss:     1.8087 - Validation Accuracy: 0.393800\n",
      "Epoch  5, CIFAR-10 Batch 1:  Loss:     1.6898 - Validation Accuracy: 0.409600\n",
      "Epoch  6, CIFAR-10 Batch 1:  Loss:     1.6392 - Validation Accuracy: 0.425200\n",
      "Epoch  7, CIFAR-10 Batch 1:  Loss:     1.5774 - Validation Accuracy: 0.438600\n",
      "Epoch  8, CIFAR-10 Batch 1:  Loss:     1.4745 - Validation Accuracy: 0.448600\n",
      "Epoch  9, CIFAR-10 Batch 1:  Loss:     1.4406 - Validation Accuracy: 0.455600\n",
      "Epoch 10, CIFAR-10 Batch 1:  Loss:     1.3737 - Validation Accuracy: 0.461000\n",
      "Epoch 11, CIFAR-10 Batch 1:  Loss:     1.3412 - Validation Accuracy: 0.470000\n",
      "Epoch 12, CIFAR-10 Batch 1:  Loss:     1.3303 - Validation Accuracy: 0.467600\n",
      "Epoch 13, CIFAR-10 Batch 1:  Loss:     1.2467 - Validation Accuracy: 0.475200\n",
      "Epoch 14, CIFAR-10 Batch 1:  Loss:     1.2274 - Validation Accuracy: 0.475800\n",
      "Epoch 15, CIFAR-10 Batch 1:  Loss:     1.1869 - Validation Accuracy: 0.486200\n",
      "Epoch 16, CIFAR-10 Batch 1:  Loss:     1.1717 - Validation Accuracy: 0.490400\n",
      "Epoch 17, CIFAR-10 Batch 1:  Loss:     1.1031 - Validation Accuracy: 0.494600\n",
      "Epoch 18, CIFAR-10 Batch 1:  Loss:     1.0715 - Validation Accuracy: 0.494400\n",
      "Epoch 19, CIFAR-10 Batch 1:  Loss:     1.0356 - Validation Accuracy: 0.500800\n",
      "Epoch 20, CIFAR-10 Batch 1:  Loss:     0.9835 - Validation Accuracy: 0.497800\n",
      "Epoch 21, CIFAR-10 Batch 1:  Loss:     0.9309 - Validation Accuracy: 0.503200\n",
      "Epoch 22, CIFAR-10 Batch 1:  Loss:     0.9260 - Validation Accuracy: 0.499800\n",
      "Epoch 23, CIFAR-10 Batch 1:  Loss:     0.8843 - Validation Accuracy: 0.505000\n",
      "Epoch 24, CIFAR-10 Batch 1:  Loss:     0.7928 - Validation Accuracy: 0.524600\n",
      "Epoch 25, CIFAR-10 Batch 1:  Loss:     0.7452 - Validation Accuracy: 0.522000\n",
      "Epoch 26, CIFAR-10 Batch 1:  Loss:     0.7395 - Validation Accuracy: 0.521000\n",
      "Epoch 27, CIFAR-10 Batch 1:  Loss:     0.7006 - Validation Accuracy: 0.522600\n",
      "Epoch 28, CIFAR-10 Batch 1:  Loss:     0.6702 - Validation Accuracy: 0.518800\n",
      "Epoch 29, CIFAR-10 Batch 1:  Loss:     0.6408 - Validation Accuracy: 0.533000\n",
      "Epoch 30, CIFAR-10 Batch 1:  Loss:     0.6291 - Validation Accuracy: 0.525400\n",
      "Epoch 31, CIFAR-10 Batch 1:  Loss:     0.5495 - Validation Accuracy: 0.525400\n",
      "Epoch 32, CIFAR-10 Batch 1:  Loss:     0.5091 - Validation Accuracy: 0.538600\n",
      "Epoch 33, CIFAR-10 Batch 1:  Loss:     0.5016 - Validation Accuracy: 0.531400\n",
      "Epoch 34, CIFAR-10 Batch 1:  Loss:     0.4994 - Validation Accuracy: 0.529000\n",
      "Epoch 35, CIFAR-10 Batch 1:  Loss:     0.4722 - Validation Accuracy: 0.535000\n",
      "Epoch 36, CIFAR-10 Batch 1:  Loss:     0.4127 - Validation Accuracy: 0.538200\n",
      "Epoch 37, CIFAR-10 Batch 1:  Loss:     0.3954 - Validation Accuracy: 0.536400\n",
      "Epoch 38, CIFAR-10 Batch 1:  Loss:     0.3573 - Validation Accuracy: 0.542200\n",
      "Epoch 39, CIFAR-10 Batch 1:  Loss:     0.3791 - Validation Accuracy: 0.535000\n",
      "Epoch 40, CIFAR-10 Batch 1:  Loss:     0.3133 - Validation Accuracy: 0.542600\n"
     ]
    }
   ],
   "source": [
    "\"\"\"\n",
    "DON'T MODIFY ANYTHING IN THIS CELL\n",
    "\"\"\"\n",
    "print('Checking the Training on a Single Batch...')\n",
    "with tf.Session() as sess:\n",
    "    # Initializing the variables\n",
    "    sess.run(tf.global_variables_initializer())\n",
    "    \n",
    "    # Training cycle\n",
    "    for epoch in range(epochs):\n",
    "        batch_i = 1\n",
    "        for batch_features, batch_labels in helper.load_preprocess_training_batch(batch_i, batch_size):\n",
    "            train_neural_network(sess, optimizer, keep_probability, batch_features, batch_labels)\n",
    "        print('Epoch {:>2}, CIFAR-10 Batch {}:  '.format(epoch + 1, batch_i), end='')\n",
    "        print_stats(sess, batch_features, batch_labels, cost, accuracy)"
   ]
  },
  {
   "cell_type": "markdown",
   "metadata": {
    "deletable": true,
    "editable": true
   },
   "source": [
    "### Fully Train the Model\n",
    "Now that you got a good accuracy with a single CIFAR-10 batch, try it with all five batches."
   ]
  },
  {
   "cell_type": "code",
   "execution_count": 29,
   "metadata": {
    "collapsed": false,
    "deletable": true,
    "editable": true
   },
   "outputs": [
    {
     "name": "stdout",
     "output_type": "stream",
     "text": [
      "Training...\n",
      "Epoch  1, CIFAR-10 Batch 1:  Loss:     2.1284 - Validation Accuracy: 0.242800\n",
      "Epoch  1, CIFAR-10 Batch 2:  Loss:     1.8353 - Validation Accuracy: 0.334800\n",
      "Epoch  1, CIFAR-10 Batch 3:  Loss:     1.6409 - Validation Accuracy: 0.352400\n",
      "Epoch  1, CIFAR-10 Batch 4:  Loss:     1.7370 - Validation Accuracy: 0.393800\n",
      "Epoch  1, CIFAR-10 Batch 5:  Loss:     1.8354 - Validation Accuracy: 0.389400\n",
      "Epoch  2, CIFAR-10 Batch 1:  Loss:     1.7572 - Validation Accuracy: 0.412800\n",
      "Epoch  2, CIFAR-10 Batch 2:  Loss:     1.5955 - Validation Accuracy: 0.411000\n",
      "Epoch  2, CIFAR-10 Batch 3:  Loss:     1.4080 - Validation Accuracy: 0.432000\n",
      "Epoch  2, CIFAR-10 Batch 4:  Loss:     1.4988 - Validation Accuracy: 0.446800\n",
      "Epoch  2, CIFAR-10 Batch 5:  Loss:     1.6504 - Validation Accuracy: 0.450000\n",
      "Epoch  3, CIFAR-10 Batch 1:  Loss:     1.5957 - Validation Accuracy: 0.462600\n",
      "Epoch  3, CIFAR-10 Batch 2:  Loss:     1.5596 - Validation Accuracy: 0.454000\n",
      "Epoch  3, CIFAR-10 Batch 3:  Loss:     1.3274 - Validation Accuracy: 0.469000\n",
      "Epoch  3, CIFAR-10 Batch 4:  Loss:     1.3816 - Validation Accuracy: 0.470800\n",
      "Epoch  3, CIFAR-10 Batch 5:  Loss:     1.5695 - Validation Accuracy: 0.468200\n",
      "Epoch  4, CIFAR-10 Batch 1:  Loss:     1.4793 - Validation Accuracy: 0.487200\n",
      "Epoch  4, CIFAR-10 Batch 2:  Loss:     1.5292 - Validation Accuracy: 0.482000\n",
      "Epoch  4, CIFAR-10 Batch 3:  Loss:     1.2079 - Validation Accuracy: 0.493400\n",
      "Epoch  4, CIFAR-10 Batch 4:  Loss:     1.2919 - Validation Accuracy: 0.495000\n",
      "Epoch  4, CIFAR-10 Batch 5:  Loss:     1.4774 - Validation Accuracy: 0.497200\n",
      "Epoch  5, CIFAR-10 Batch 1:  Loss:     1.4101 - Validation Accuracy: 0.512000\n",
      "Epoch  5, CIFAR-10 Batch 2:  Loss:     1.4076 - Validation Accuracy: 0.506600\n",
      "Epoch  5, CIFAR-10 Batch 3:  Loss:     1.2324 - Validation Accuracy: 0.502000\n",
      "Epoch  5, CIFAR-10 Batch 4:  Loss:     1.2030 - Validation Accuracy: 0.505600\n",
      "Epoch  5, CIFAR-10 Batch 5:  Loss:     1.3672 - Validation Accuracy: 0.505800\n",
      "Epoch  6, CIFAR-10 Batch 1:  Loss:     1.3973 - Validation Accuracy: 0.519800\n",
      "Epoch  6, CIFAR-10 Batch 2:  Loss:     1.3675 - Validation Accuracy: 0.523400\n",
      "Epoch  6, CIFAR-10 Batch 3:  Loss:     1.1552 - Validation Accuracy: 0.512600\n",
      "Epoch  6, CIFAR-10 Batch 4:  Loss:     1.1747 - Validation Accuracy: 0.522600\n",
      "Epoch  6, CIFAR-10 Batch 5:  Loss:     1.2899 - Validation Accuracy: 0.519800\n",
      "Epoch  7, CIFAR-10 Batch 1:  Loss:     1.3045 - Validation Accuracy: 0.533400\n",
      "Epoch  7, CIFAR-10 Batch 2:  Loss:     1.3645 - Validation Accuracy: 0.527600\n",
      "Epoch  7, CIFAR-10 Batch 3:  Loss:     1.1163 - Validation Accuracy: 0.513600\n",
      "Epoch  7, CIFAR-10 Batch 4:  Loss:     1.1332 - Validation Accuracy: 0.527600\n",
      "Epoch  7, CIFAR-10 Batch 5:  Loss:     1.2300 - Validation Accuracy: 0.524400\n",
      "Epoch  8, CIFAR-10 Batch 1:  Loss:     1.2778 - Validation Accuracy: 0.533000\n",
      "Epoch  8, CIFAR-10 Batch 2:  Loss:     1.2751 - Validation Accuracy: 0.527000\n",
      "Epoch  8, CIFAR-10 Batch 3:  Loss:     1.0829 - Validation Accuracy: 0.534800\n",
      "Epoch  8, CIFAR-10 Batch 4:  Loss:     1.0956 - Validation Accuracy: 0.531400\n",
      "Epoch  8, CIFAR-10 Batch 5:  Loss:     1.1876 - Validation Accuracy: 0.532400\n",
      "Epoch  9, CIFAR-10 Batch 1:  Loss:     1.2445 - Validation Accuracy: 0.541200\n",
      "Epoch  9, CIFAR-10 Batch 2:  Loss:     1.3099 - Validation Accuracy: 0.548000\n",
      "Epoch  9, CIFAR-10 Batch 3:  Loss:     1.0515 - Validation Accuracy: 0.535800\n",
      "Epoch  9, CIFAR-10 Batch 4:  Loss:     1.0867 - Validation Accuracy: 0.547000\n",
      "Epoch  9, CIFAR-10 Batch 5:  Loss:     1.1588 - Validation Accuracy: 0.528000\n",
      "Epoch 10, CIFAR-10 Batch 1:  Loss:     1.1823 - Validation Accuracy: 0.557600\n",
      "Epoch 10, CIFAR-10 Batch 2:  Loss:     1.2310 - Validation Accuracy: 0.544200\n",
      "Epoch 10, CIFAR-10 Batch 3:  Loss:     1.0380 - Validation Accuracy: 0.540000\n",
      "Epoch 10, CIFAR-10 Batch 4:  Loss:     1.0360 - Validation Accuracy: 0.557400\n",
      "Epoch 10, CIFAR-10 Batch 5:  Loss:     1.0520 - Validation Accuracy: 0.537600\n",
      "Epoch 11, CIFAR-10 Batch 1:  Loss:     1.1434 - Validation Accuracy: 0.562400\n",
      "Epoch 11, CIFAR-10 Batch 2:  Loss:     1.2205 - Validation Accuracy: 0.551400\n",
      "Epoch 11, CIFAR-10 Batch 3:  Loss:     0.9502 - Validation Accuracy: 0.551800\n",
      "Epoch 11, CIFAR-10 Batch 4:  Loss:     0.9384 - Validation Accuracy: 0.548600\n",
      "Epoch 11, CIFAR-10 Batch 5:  Loss:     1.0660 - Validation Accuracy: 0.527400\n",
      "Epoch 12, CIFAR-10 Batch 1:  Loss:     1.1485 - Validation Accuracy: 0.564600\n",
      "Epoch 12, CIFAR-10 Batch 2:  Loss:     1.1418 - Validation Accuracy: 0.560000\n",
      "Epoch 12, CIFAR-10 Batch 3:  Loss:     0.9224 - Validation Accuracy: 0.549200\n",
      "Epoch 12, CIFAR-10 Batch 4:  Loss:     0.9358 - Validation Accuracy: 0.567400\n",
      "Epoch 12, CIFAR-10 Batch 5:  Loss:     0.9718 - Validation Accuracy: 0.535600\n",
      "Epoch 13, CIFAR-10 Batch 1:  Loss:     1.1831 - Validation Accuracy: 0.559400\n",
      "Epoch 13, CIFAR-10 Batch 2:  Loss:     1.1386 - Validation Accuracy: 0.562800\n",
      "Epoch 13, CIFAR-10 Batch 3:  Loss:     0.8532 - Validation Accuracy: 0.566800\n",
      "Epoch 13, CIFAR-10 Batch 4:  Loss:     0.9309 - Validation Accuracy: 0.571400\n",
      "Epoch 13, CIFAR-10 Batch 5:  Loss:     0.9213 - Validation Accuracy: 0.544600\n",
      "Epoch 14, CIFAR-10 Batch 1:  Loss:     1.1521 - Validation Accuracy: 0.570000\n",
      "Epoch 14, CIFAR-10 Batch 2:  Loss:     1.0217 - Validation Accuracy: 0.575200\n",
      "Epoch 14, CIFAR-10 Batch 3:  Loss:     0.8730 - Validation Accuracy: 0.563400\n",
      "Epoch 14, CIFAR-10 Batch 4:  Loss:     0.8889 - Validation Accuracy: 0.575000\n",
      "Epoch 14, CIFAR-10 Batch 5:  Loss:     0.8905 - Validation Accuracy: 0.552600\n",
      "Epoch 15, CIFAR-10 Batch 1:  Loss:     1.0813 - Validation Accuracy: 0.566400\n",
      "Epoch 15, CIFAR-10 Batch 2:  Loss:     1.0016 - Validation Accuracy: 0.573200\n",
      "Epoch 15, CIFAR-10 Batch 3:  Loss:     0.8256 - Validation Accuracy: 0.572000\n",
      "Epoch 15, CIFAR-10 Batch 4:  Loss:     0.8617 - Validation Accuracy: 0.569600\n",
      "Epoch 15, CIFAR-10 Batch 5:  Loss:     0.8635 - Validation Accuracy: 0.564000\n",
      "Epoch 16, CIFAR-10 Batch 1:  Loss:     0.9978 - Validation Accuracy: 0.575600\n",
      "Epoch 16, CIFAR-10 Batch 2:  Loss:     0.9374 - Validation Accuracy: 0.576600\n",
      "Epoch 16, CIFAR-10 Batch 3:  Loss:     0.7979 - Validation Accuracy: 0.568200\n",
      "Epoch 16, CIFAR-10 Batch 4:  Loss:     0.8033 - Validation Accuracy: 0.569800\n",
      "Epoch 16, CIFAR-10 Batch 5:  Loss:     0.8106 - Validation Accuracy: 0.563400\n",
      "Epoch 17, CIFAR-10 Batch 1:  Loss:     0.9677 - Validation Accuracy: 0.586400\n",
      "Epoch 17, CIFAR-10 Batch 2:  Loss:     1.0061 - Validation Accuracy: 0.573600\n",
      "Epoch 17, CIFAR-10 Batch 3:  Loss:     0.7736 - Validation Accuracy: 0.566200\n",
      "Epoch 17, CIFAR-10 Batch 4:  Loss:     0.7865 - Validation Accuracy: 0.574000\n",
      "Epoch 17, CIFAR-10 Batch 5:  Loss:     0.8202 - Validation Accuracy: 0.568000\n",
      "Epoch 18, CIFAR-10 Batch 1:  Loss:     0.9279 - Validation Accuracy: 0.587200\n",
      "Epoch 18, CIFAR-10 Batch 2:  Loss:     0.8932 - Validation Accuracy: 0.584400\n",
      "Epoch 18, CIFAR-10 Batch 3:  Loss:     0.7741 - Validation Accuracy: 0.570800\n",
      "Epoch 18, CIFAR-10 Batch 4:  Loss:     0.7606 - Validation Accuracy: 0.581400\n",
      "Epoch 18, CIFAR-10 Batch 5:  Loss:     0.7942 - Validation Accuracy: 0.572000\n",
      "Epoch 19, CIFAR-10 Batch 1:  Loss:     0.9230 - Validation Accuracy: 0.582800\n",
      "Epoch 19, CIFAR-10 Batch 2:  Loss:     0.8437 - Validation Accuracy: 0.576600\n",
      "Epoch 19, CIFAR-10 Batch 3:  Loss:     0.7374 - Validation Accuracy: 0.585600\n",
      "Epoch 19, CIFAR-10 Batch 4:  Loss:     0.7138 - Validation Accuracy: 0.581200\n",
      "Epoch 19, CIFAR-10 Batch 5:  Loss:     0.7924 - Validation Accuracy: 0.583800\n",
      "Epoch 20, CIFAR-10 Batch 1:  Loss:     0.8935 - Validation Accuracy: 0.586000\n",
      "Epoch 20, CIFAR-10 Batch 2:  Loss:     0.8923 - Validation Accuracy: 0.585400\n",
      "Epoch 20, CIFAR-10 Batch 3:  Loss:     0.7201 - Validation Accuracy: 0.569400\n",
      "Epoch 20, CIFAR-10 Batch 4:  Loss:     0.7082 - Validation Accuracy: 0.586600\n",
      "Epoch 20, CIFAR-10 Batch 5:  Loss:     0.7132 - Validation Accuracy: 0.582600\n",
      "Epoch 21, CIFAR-10 Batch 1:  Loss:     0.8609 - Validation Accuracy: 0.586400\n",
      "Epoch 21, CIFAR-10 Batch 2:  Loss:     0.7717 - Validation Accuracy: 0.580200\n",
      "Epoch 21, CIFAR-10 Batch 3:  Loss:     0.6952 - Validation Accuracy: 0.583600\n",
      "Epoch 21, CIFAR-10 Batch 4:  Loss:     0.6861 - Validation Accuracy: 0.590600\n",
      "Epoch 21, CIFAR-10 Batch 5:  Loss:     0.6692 - Validation Accuracy: 0.600000\n",
      "Epoch 22, CIFAR-10 Batch 1:  Loss:     0.7918 - Validation Accuracy: 0.592800\n",
      "Epoch 22, CIFAR-10 Batch 2:  Loss:     0.7445 - Validation Accuracy: 0.591800\n",
      "Epoch 22, CIFAR-10 Batch 3:  Loss:     0.6613 - Validation Accuracy: 0.587600\n",
      "Epoch 22, CIFAR-10 Batch 4:  Loss:     0.6233 - Validation Accuracy: 0.581400\n",
      "Epoch 22, CIFAR-10 Batch 5:  Loss:     0.6557 - Validation Accuracy: 0.584800\n",
      "Epoch 23, CIFAR-10 Batch 1:  Loss:     0.7871 - Validation Accuracy: 0.589400\n",
      "Epoch 23, CIFAR-10 Batch 2:  Loss:     0.7523 - Validation Accuracy: 0.593200\n",
      "Epoch 23, CIFAR-10 Batch 3:  Loss:     0.6304 - Validation Accuracy: 0.588800\n",
      "Epoch 23, CIFAR-10 Batch 4:  Loss:     0.5899 - Validation Accuracy: 0.592000\n",
      "Epoch 23, CIFAR-10 Batch 5:  Loss:     0.6691 - Validation Accuracy: 0.578000\n",
      "Epoch 24, CIFAR-10 Batch 1:  Loss:     0.7649 - Validation Accuracy: 0.596000\n",
      "Epoch 24, CIFAR-10 Batch 2:  Loss:     0.7364 - Validation Accuracy: 0.593400\n",
      "Epoch 24, CIFAR-10 Batch 3:  Loss:     0.5791 - Validation Accuracy: 0.593000\n",
      "Epoch 24, CIFAR-10 Batch 4:  Loss:     0.5820 - Validation Accuracy: 0.593600\n",
      "Epoch 24, CIFAR-10 Batch 5:  Loss:     0.6331 - Validation Accuracy: 0.585600\n",
      "Epoch 25, CIFAR-10 Batch 1:  Loss:     0.7706 - Validation Accuracy: 0.584600\n",
      "Epoch 25, CIFAR-10 Batch 2:  Loss:     0.6880 - Validation Accuracy: 0.587800\n",
      "Epoch 25, CIFAR-10 Batch 3:  Loss:     0.6189 - Validation Accuracy: 0.587600\n",
      "Epoch 25, CIFAR-10 Batch 4:  Loss:     0.5922 - Validation Accuracy: 0.590200\n",
      "Epoch 25, CIFAR-10 Batch 5:  Loss:     0.6375 - Validation Accuracy: 0.590800\n",
      "Epoch 26, CIFAR-10 Batch 1:  Loss:     0.6758 - Validation Accuracy: 0.597600\n",
      "Epoch 26, CIFAR-10 Batch 2:  Loss:     0.6628 - Validation Accuracy: 0.592000\n",
      "Epoch 26, CIFAR-10 Batch 3:  Loss:     0.6085 - Validation Accuracy: 0.588000\n",
      "Epoch 26, CIFAR-10 Batch 4:  Loss:     0.5341 - Validation Accuracy: 0.598600\n",
      "Epoch 26, CIFAR-10 Batch 5:  Loss:     0.5775 - Validation Accuracy: 0.594600\n",
      "Epoch 27, CIFAR-10 Batch 1:  Loss:     0.7608 - Validation Accuracy: 0.587600\n",
      "Epoch 27, CIFAR-10 Batch 2:  Loss:     0.6007 - Validation Accuracy: 0.599800\n",
      "Epoch 27, CIFAR-10 Batch 3:  Loss:     0.6133 - Validation Accuracy: 0.598400\n",
      "Epoch 27, CIFAR-10 Batch 4:  Loss:     0.5041 - Validation Accuracy: 0.597200\n",
      "Epoch 27, CIFAR-10 Batch 5:  Loss:     0.5351 - Validation Accuracy: 0.591200\n",
      "Epoch 28, CIFAR-10 Batch 1:  Loss:     0.6763 - Validation Accuracy: 0.592600\n",
      "Epoch 28, CIFAR-10 Batch 2:  Loss:     0.6373 - Validation Accuracy: 0.592000\n",
      "Epoch 28, CIFAR-10 Batch 3:  Loss:     0.5571 - Validation Accuracy: 0.597000\n",
      "Epoch 28, CIFAR-10 Batch 4:  Loss:     0.4997 - Validation Accuracy: 0.598200\n",
      "Epoch 28, CIFAR-10 Batch 5:  Loss:     0.5022 - Validation Accuracy: 0.588000\n",
      "Epoch 29, CIFAR-10 Batch 1:  Loss:     0.6904 - Validation Accuracy: 0.583800\n",
      "Epoch 29, CIFAR-10 Batch 2:  Loss:     0.5780 - Validation Accuracy: 0.599200\n",
      "Epoch 29, CIFAR-10 Batch 3:  Loss:     0.5267 - Validation Accuracy: 0.602800\n",
      "Epoch 29, CIFAR-10 Batch 4:  Loss:     0.5165 - Validation Accuracy: 0.587200\n",
      "Epoch 29, CIFAR-10 Batch 5:  Loss:     0.5057 - Validation Accuracy: 0.602000\n",
      "Epoch 30, CIFAR-10 Batch 1:  Loss:     0.6595 - Validation Accuracy: 0.600400\n",
      "Epoch 30, CIFAR-10 Batch 2:  Loss:     0.5744 - Validation Accuracy: 0.592200\n",
      "Epoch 30, CIFAR-10 Batch 3:  Loss:     0.5513 - Validation Accuracy: 0.596600\n",
      "Epoch 30, CIFAR-10 Batch 4:  Loss:     0.4494 - Validation Accuracy: 0.602200\n",
      "Epoch 30, CIFAR-10 Batch 5:  Loss:     0.4789 - Validation Accuracy: 0.598800\n",
      "Epoch 31, CIFAR-10 Batch 1:  Loss:     0.5927 - Validation Accuracy: 0.600600\n",
      "Epoch 31, CIFAR-10 Batch 2:  Loss:     0.5438 - Validation Accuracy: 0.595600\n",
      "Epoch 31, CIFAR-10 Batch 3:  Loss:     0.5069 - Validation Accuracy: 0.603000\n",
      "Epoch 31, CIFAR-10 Batch 4:  Loss:     0.4784 - Validation Accuracy: 0.596400\n",
      "Epoch 31, CIFAR-10 Batch 5:  Loss:     0.4886 - Validation Accuracy: 0.603400\n",
      "Epoch 32, CIFAR-10 Batch 1:  Loss:     0.5645 - Validation Accuracy: 0.605000\n",
      "Epoch 32, CIFAR-10 Batch 2:  Loss:     0.5320 - Validation Accuracy: 0.594000\n",
      "Epoch 32, CIFAR-10 Batch 3:  Loss:     0.5730 - Validation Accuracy: 0.590000\n",
      "Epoch 32, CIFAR-10 Batch 4:  Loss:     0.4528 - Validation Accuracy: 0.594600\n",
      "Epoch 32, CIFAR-10 Batch 5:  Loss:     0.4383 - Validation Accuracy: 0.601400\n",
      "Epoch 33, CIFAR-10 Batch 1:  Loss:     0.6113 - Validation Accuracy: 0.598800\n",
      "Epoch 33, CIFAR-10 Batch 2:  Loss:     0.5302 - Validation Accuracy: 0.605200\n",
      "Epoch 33, CIFAR-10 Batch 3:  Loss:     0.5169 - Validation Accuracy: 0.599600\n",
      "Epoch 33, CIFAR-10 Batch 4:  Loss:     0.4802 - Validation Accuracy: 0.593800\n",
      "Epoch 33, CIFAR-10 Batch 5:  Loss:     0.4929 - Validation Accuracy: 0.594600\n",
      "Epoch 34, CIFAR-10 Batch 1:  Loss:     0.5660 - Validation Accuracy: 0.603600\n",
      "Epoch 34, CIFAR-10 Batch 2:  Loss:     0.5176 - Validation Accuracy: 0.600000\n",
      "Epoch 34, CIFAR-10 Batch 3:  Loss:     0.4825 - Validation Accuracy: 0.600800\n",
      "Epoch 34, CIFAR-10 Batch 4:  Loss:     0.4314 - Validation Accuracy: 0.595000\n",
      "Epoch 34, CIFAR-10 Batch 5:  Loss:     0.4543 - Validation Accuracy: 0.606800\n",
      "Epoch 35, CIFAR-10 Batch 1:  Loss:     0.5088 - Validation Accuracy: 0.606600\n",
      "Epoch 35, CIFAR-10 Batch 2:  Loss:     0.5236 - Validation Accuracy: 0.598000\n",
      "Epoch 35, CIFAR-10 Batch 3:  Loss:     0.4369 - Validation Accuracy: 0.600000\n",
      "Epoch 35, CIFAR-10 Batch 4:  Loss:     0.4325 - Validation Accuracy: 0.596800\n",
      "Epoch 35, CIFAR-10 Batch 5:  Loss:     0.4710 - Validation Accuracy: 0.602200\n",
      "Epoch 36, CIFAR-10 Batch 1:  Loss:     0.4574 - Validation Accuracy: 0.598400\n",
      "Epoch 36, CIFAR-10 Batch 2:  Loss:     0.4664 - Validation Accuracy: 0.603000\n",
      "Epoch 36, CIFAR-10 Batch 3:  Loss:     0.4555 - Validation Accuracy: 0.601600\n",
      "Epoch 36, CIFAR-10 Batch 4:  Loss:     0.3622 - Validation Accuracy: 0.602800\n",
      "Epoch 36, CIFAR-10 Batch 5:  Loss:     0.4421 - Validation Accuracy: 0.600600\n",
      "Epoch 37, CIFAR-10 Batch 1:  Loss:     0.4812 - Validation Accuracy: 0.607200\n",
      "Epoch 37, CIFAR-10 Batch 2:  Loss:     0.4298 - Validation Accuracy: 0.606400\n",
      "Epoch 37, CIFAR-10 Batch 3:  Loss:     0.4507 - Validation Accuracy: 0.603200\n",
      "Epoch 37, CIFAR-10 Batch 4:  Loss:     0.3837 - Validation Accuracy: 0.603800\n",
      "Epoch 37, CIFAR-10 Batch 5:  Loss:     0.4363 - Validation Accuracy: 0.601000\n",
      "Epoch 38, CIFAR-10 Batch 1:  Loss:     0.4631 - Validation Accuracy: 0.610400\n",
      "Epoch 38, CIFAR-10 Batch 2:  Loss:     0.4777 - Validation Accuracy: 0.594800\n",
      "Epoch 38, CIFAR-10 Batch 3:  Loss:     0.4266 - Validation Accuracy: 0.607600\n",
      "Epoch 38, CIFAR-10 Batch 4:  Loss:     0.3424 - Validation Accuracy: 0.598200\n",
      "Epoch 38, CIFAR-10 Batch 5:  Loss:     0.4271 - Validation Accuracy: 0.602000\n",
      "Epoch 39, CIFAR-10 Batch 1:  Loss:     0.4765 - Validation Accuracy: 0.606000\n",
      "Epoch 39, CIFAR-10 Batch 2:  Loss:     0.4446 - Validation Accuracy: 0.602200\n",
      "Epoch 39, CIFAR-10 Batch 3:  Loss:     0.4115 - Validation Accuracy: 0.599000\n",
      "Epoch 39, CIFAR-10 Batch 4:  Loss:     0.3536 - Validation Accuracy: 0.603200\n",
      "Epoch 39, CIFAR-10 Batch 5:  Loss:     0.4128 - Validation Accuracy: 0.594600\n",
      "Epoch 40, CIFAR-10 Batch 1:  Loss:     0.4425 - Validation Accuracy: 0.603600\n",
      "Epoch 40, CIFAR-10 Batch 2:  Loss:     0.4143 - Validation Accuracy: 0.603600\n",
      "Epoch 40, CIFAR-10 Batch 3:  Loss:     0.4394 - Validation Accuracy: 0.603400\n",
      "Epoch 40, CIFAR-10 Batch 4:  Loss:     0.3319 - Validation Accuracy: 0.603800\n",
      "Epoch 40, CIFAR-10 Batch 5:  Loss:     0.3666 - Validation Accuracy: 0.607800\n"
     ]
    }
   ],
   "source": [
    "\"\"\"\n",
    "DON'T MODIFY ANYTHING IN THIS CELL\n",
    "\"\"\"\n",
    "save_model_path = './image_classification'\n",
    "\n",
    "print('Training...')\n",
    "with tf.Session() as sess:\n",
    "    # Initializing the variables\n",
    "    sess.run(tf.global_variables_initializer())\n",
    "    \n",
    "    # Training cycle\n",
    "    for epoch in range(epochs):\n",
    "        # Loop over all batches\n",
    "        n_batches = 5\n",
    "        for batch_i in range(1, n_batches + 1):\n",
    "            for batch_features, batch_labels in helper.load_preprocess_training_batch(batch_i, batch_size):\n",
    "                train_neural_network(sess, optimizer, keep_probability, batch_features, batch_labels)\n",
    "            print('Epoch {:>2}, CIFAR-10 Batch {}:  '.format(epoch + 1, batch_i), end='')\n",
    "            print_stats(sess, batch_features, batch_labels, cost, accuracy)\n",
    "            \n",
    "    # Save Model\n",
    "    saver = tf.train.Saver()\n",
    "    save_path = saver.save(sess, save_model_path)"
   ]
  },
  {
   "cell_type": "markdown",
   "metadata": {
    "deletable": true,
    "editable": true
   },
   "source": [
    "# Checkpoint\n",
    "The model has been saved to disk.\n",
    "## Test Model\n",
    "Test your model against the test dataset.  This will be your final accuracy. You should have an accuracy greater than 50%. If you don't, keep tweaking the model architecture and parameters."
   ]
  },
  {
   "cell_type": "code",
   "execution_count": 30,
   "metadata": {
    "collapsed": false,
    "deletable": true,
    "editable": true
   },
   "outputs": [
    {
     "name": "stdout",
     "output_type": "stream",
     "text": [
      "Testing Accuracy: 0.5955300632911392\n",
      "\n"
     ]
    },
    {
     "data": {
      "image/png": "[encoded data removed]",
      "text/plain": [
       "<matplotlib.figure.Figure at 0x7fc2fbf9aa90>"
      ]
     },
     "metadata": {
      "image/png": {
       "height": 319,
       "width": 355
      }
     },
     "output_type": "display_data"
    }
   ],
   "source": [
    "\"\"\"\n",
    "DON'T MODIFY ANYTHING IN THIS CELL\n",
    "\"\"\"\n",
    "%matplotlib inline\n",
    "%config InlineBackend.figure_format = 'retina'\n",
    "\n",
    "import tensorflow as tf\n",
    "import pickle\n",
    "import helper\n",
    "import random\n",
    "\n",
    "# Set batch size if not already set\n",
    "try:\n",
    "    if batch_size:\n",
    "        pass\n",
    "except NameError:\n",
    "    batch_size = 64\n",
    "\n",
    "save_model_path = './image_classification'\n",
    "n_samples = 4\n",
    "top_n_predictions = 3\n",
    "\n",
    "def test_model():\n",
    "    \"\"\"\n",
    "    Test the saved model against the test dataset\n",
    "    \"\"\"\n",
    "\n",
    "    test_features, test_labels = pickle.load(open('preprocess_training.p', mode='rb'))\n",
    "    loaded_graph = tf.Graph()\n",
    "\n",
    "    with tf.Session(graph=loaded_graph) as sess:\n",
    "        # Load model\n",
    "        loader = tf.train.import_meta_graph(save_model_path + '.meta')\n",
    "        loader.restore(sess, save_model_path)\n",
    "\n",
    "        # Get Tensors from loaded model\n",
    "        loaded_x = loaded_graph.get_tensor_by_name('x:0')\n",
    "        loaded_y = loaded_graph.get_tensor_by_name('y:0')\n",
    "        loaded_keep_prob = loaded_graph.get_tensor_by_name('keep_prob:0')\n",
    "        loaded_logits = loaded_graph.get_tensor_by_name('logits:0')\n",
    "        loaded_acc = loaded_graph.get_tensor_by_name('accuracy:0')\n",
    "        \n",
    "        # Get accuracy in batches for memory limitations\n",
    "        test_batch_acc_total = 0\n",
    "        test_batch_count = 0\n",
    "        \n",
    "        for train_feature_batch, train_label_batch in helper.batch_features_labels(test_features, test_labels, batch_size):\n",
    "            test_batch_acc_total += sess.run(\n",
    "                loaded_acc,\n",
    "                feed_dict={loaded_x: train_feature_batch, loaded_y: train_label_batch, loaded_keep_prob: 1.0})\n",
    "            test_batch_count += 1\n",
    "\n",
    "        print('Testing Accuracy: {}\\n'.format(test_batch_acc_total/test_batch_count))\n",
    "\n",
    "        # Print Random Samples\n",
    "        random_test_features, random_test_labels = tuple(zip(*random.sample(list(zip(test_features, test_labels)), n_samples)))\n",
    "        random_test_predictions = sess.run(\n",
    "            tf.nn.top_k(tf.nn.softmax(loaded_logits), top_n_predictions),\n",
    "            feed_dict={loaded_x: random_test_features, loaded_y: random_test_labels, loaded_keep_prob: 1.0})\n",
    "        helper.display_image_predictions(random_test_features, random_test_labels, random_test_predictions)\n",
    "\n",
    "\n",
    "test_model()"
   ]
  },
  {
   "cell_type": "markdown",
   "metadata": {
    "deletable": true,
    "editable": true
   },
   "source": [
    "## Why 50-80% Accuracy?\n",
    "You might be wondering why you can't get an accuracy any higher. First things first, 50% isn't bad for a simple CNN.  Pure guessing would get you 10% accuracy. That's because there are many more techniques that can be applied to your model and we recemmond that once you are done with this project, you explore!\n",
    "\n",
    "## Submitting This Project\n",
    "When submitting this project, make sure to run all the cells before saving the notebook.  Save the notebook file as \"image_classification.ipynb\" and save it as a HTML file under \"File\" -> \"Download as\".  Include the \"helper.py\" and \"problem_unittests.py\" files in your submission."
   ]
  }
 ],
 "metadata": {
  "kernelspec": {
   "display_name": "Python 3",
   "language": "python",
   "name": "python3"
  },
  "language_info": {
   "codemirror_mode": {
    "name": "ipython",
    "version": 3
   },
   "file_extension": ".py",
   "mimetype": "text/x-python",
   "name": "python",
   "nbconvert_exporter": "python",
   "pygments_lexer": "ipython3",
   "version": "3.5.2"
  }
 },
 "nbformat": 4,
 "nbformat_minor": 0
}
